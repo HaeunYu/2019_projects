{
 "cells": [
  {
   "cell_type": "code",
   "execution_count": 1,
   "metadata": {},
   "outputs": [],
   "source": [
    "from bs4 import BeautifulSoup\n",
    "import requests"
   ]
  },
  {
   "cell_type": "code",
   "execution_count": 2,
   "metadata": {},
   "outputs": [],
   "source": [
    "import re"
   ]
  },
  {
   "cell_type": "code",
   "execution_count": 66,
   "metadata": {},
   "outputs": [],
   "source": [
    "url = \"https://music.bugs.co.kr/artist/80206415/tracks?type=RELEASE\"\n",
    "url2 = \"https://music.bugs.co.kr/artist/80206415/tracks?type=RELEASE&sort=P&page=2&roleCode=0&highQualityOnly=\"\n",
    "t1 = \"https://music.bugs.co.kr/artist/80039092/tracks?type=RELEASE\"\n",
    "aria = \"https://music.bugs.co.kr/artist/80117591/tracks?type=RELEASE\"\n",
    "dua = \"https://music.bugs.co.kr/artist/80245167/tracks?type=RELEASE\"\n",
    "dua2 = \"https://music.bugs.co.kr/artist/80245167/tracks?type=RELEASE&sort=P&page=2&roleCode=0&highQualityOnly=\"\n",
    "billie = \"https://music.bugs.co.kr/artist/8584120/tracks?type=RELEASE\""
   ]
  },
  {
   "cell_type": "code",
   "execution_count": 67,
   "metadata": {},
   "outputs": [],
   "source": [
    "req = requests.get(billie)\n",
    "html = req.text\n",
    "soup = BeautifulSoup(html, 'lxml')"
   ]
  },
  {
   "cell_type": "code",
   "execution_count": 68,
   "metadata": {},
   "outputs": [],
   "source": [
    "what = soup.find_all(href=re.compile('https://music.bugs.co.kr/track/'))"
   ]
  },
  {
   "cell_type": "code",
   "execution_count": 69,
   "metadata": {},
   "outputs": [],
   "source": [
    "p = re.compile('(?<=href=)\"(.*?)\"')\n",
    "urllist = []\n",
    "for i in what :\n",
    "    urls = p.search(str(i)).group()[1:-1]\n",
    "    urllist.append(urls)"
   ]
  },
  {
   "cell_type": "code",
   "execution_count": 70,
   "metadata": {},
   "outputs": [],
   "source": [
    "ariana = open(\"billie.txt\", \"a\", encoding=\"utf-8\")"
   ]
  },
  {
   "cell_type": "code",
   "execution_count": 71,
   "metadata": {},
   "outputs": [
    {
     "name": "stdout",
     "output_type": "stream",
     "text": [
      "Six Feet Under (Jerry Folk Remix)\n",
      "[]\n",
      "MyBoi (TroyBoi Remix)\n",
      "[]\n",
      "Ocean Eyes (GOLDHOUSE Remix)\n",
      "[]\n",
      "ocean eyes\n",
      "[]\n",
      "Six Feet Under (Aire Atlantica Remix)\n",
      "[]\n",
      "Ocean Eyes (Astronomyy Remix)\n",
      "[]\n",
      "Six Feet Under (BLU J Remix)\n",
      "[]\n",
      "Six Feet Under (Gazzo Remix)\n",
      "[]\n"
     ]
    }
   ],
   "source": [
    "ly_list = []\n",
    "songlist = []\n",
    "\n",
    "#n = 1\n",
    "for i in urllist :\n",
    "    hi = requests.get(i)\n",
    "    ly_text = hi.text\n",
    "    lyrics = BeautifulSoup(ly_text, 'lxml')\n",
    "    try :\n",
    "        lyric = lyrics.select('xmp')[0].text\n",
    "    except :\n",
    "        name = lyrics.select('h1')[2].text.strip()\n",
    "        print(name)\n",
    "        print(lyrics.select('xmp'))\n",
    "    name = lyrics.select('h1')[2].text.strip()\n",
    "    song = re.sub('[(].*[)]', \"\", name).strip()\n",
    "    if song not in songlist :\n",
    "        ariana.write(str(lyric))\n",
    "        songlist.append(song)\n",
    "        #n+=1\n",
    "    #if n==4 :\n",
    "        #break;"
   ]
  },
  {
   "cell_type": "code",
   "execution_count": 72,
   "metadata": {},
   "outputs": [
    {
     "data": {
      "text/plain": [
       "34"
      ]
     },
     "execution_count": 72,
     "metadata": {},
     "output_type": "execute_result"
    }
   ],
   "source": [
    "len(songlist)"
   ]
  },
  {
   "cell_type": "code",
   "execution_count": 30,
   "metadata": {},
   "outputs": [],
   "source": [
    "annemarie.close()"
   ]
  },
  {
   "cell_type": "code",
   "execution_count": null,
   "metadata": {},
   "outputs": [],
   "source": [
    "hi = requests.get(urllist[20])\n",
    "ly_text = hi.text\n",
    "lyrics = BeautifulSoup(ly_text, 'lxml')\n",
    "\n",
    "lyric = lyrics.select('xmp')"
   ]
  },
  {
   "cell_type": "code",
   "execution_count": null,
   "metadata": {},
   "outputs": [],
   "source": [
    "what\n",
    "\n",
    "p = re.compile('(?<=href=)\"(.*?)\"')\n",
    "print(p.search(str(what[20])).group()[1:-1])"
   ]
  },
  {
   "cell_type": "code",
   "execution_count": null,
   "metadata": {},
   "outputs": [],
   "source": [
    "name = lyrics.select('h1')"
   ]
  },
  {
   "cell_type": "code",
   "execution_count": null,
   "metadata": {},
   "outputs": [],
   "source": [
    "name"
   ]
  },
  {
   "cell_type": "code",
   "execution_count": null,
   "metadata": {},
   "outputs": [],
   "source": [
    "to = name[2].text.strip()\n",
    "print(to)\n",
    "re.sub('[(].*[)]', \"\", to).strip()"
   ]
  },
  {
   "cell_type": "code",
   "execution_count": null,
   "metadata": {},
   "outputs": [],
   "source": []
  }
 ],
 "metadata": {
  "kernelspec": {
   "display_name": "Python 3",
   "language": "python",
   "name": "python3"
  },
  "language_info": {
   "codemirror_mode": {
    "name": "ipython",
    "version": 3
   },
   "file_extension": ".py",
   "mimetype": "text/x-python",
   "name": "python",
   "nbconvert_exporter": "python",
   "pygments_lexer": "ipython3",
   "version": "3.6.5"
  }
 },
 "nbformat": 4,
 "nbformat_minor": 2
}
